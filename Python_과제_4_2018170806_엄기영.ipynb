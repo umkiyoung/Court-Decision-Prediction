{
  "nbformat": 4,
  "nbformat_minor": 0,
  "metadata": {
    "colab": {
      "provenance": [],
      "collapsed_sections": [
        "ifZEOnGA3Lp7",
        "M-yCRz4C3UMS",
        "s3l2EBpO3YUW",
        "JVGo3Bj23b5A",
        "biL2aC9t3ftS",
        "fGmWvM5v3rs-",
        "H_4LylVV3wqs",
        "SW8xf_vV30Kq",
        "s6lIbAo78sNt",
        "N4yG_1pe9noN",
        "PkiEFV9e9zKu",
        "W6wCdFh7-Dfg",
        "_yPh1nV3-MWL",
        "amIFfSMQ_MaH",
        "yUOMlOu0SLt-"
      ],
      "include_colab_link": true
    },
    "kernelspec": {
      "name": "python3",
      "display_name": "Python 3"
    },
    "language_info": {
      "name": "python"
    }
  },
  "cells": [
    {
      "cell_type": "markdown",
      "metadata": {
        "id": "view-in-github",
        "colab_type": "text"
      },
      "source": [
        "<a href=\"https://colab.research.google.com/github/umkiyoung/Court-Decision-Prediction/blob/main/Python_%EA%B3%BC%EC%A0%9C_4_2018170806_%EC%97%84%EA%B8%B0%EC%98%81.ipynb\" target=\"_parent\"><img src=\"https://colab.research.google.com/assets/colab-badge.svg\" alt=\"Open In Colab\"/></a>"
      ]
    },
    {
      "cell_type": "markdown",
      "source": [
        "**제출 시 파일 제목에 `이름`과 `학번`을 수정하여 제출할 것!**\n",
        "\n",
        "# Assignment 4\n",
        "\n",
        "**범위**\n",
        "\n",
        "- 7.1 Regular Expression\n",
        "- 7.2 Web Crawling Part 1\n",
        "- 8.1 Web Crawling Part 2\n",
        "- 8.2 Web Crawling Part 3"
      ],
      "metadata": {
        "id": "o33-TtrFKs9G"
      }
    },
    {
      "cell_type": "code",
      "source": [
        "!pip install selenium\n",
        "\n",
        "import re\n",
        "import requests\n",
        "\n",
        "from bs4 import BeautifulSoup\n",
        "\n",
        "from selenium import webdriver\n",
        "from selenium.webdriver.common.keys import Keys\n",
        "from selenium.webdriver.support.ui import WebDriverWait\n",
        "from selenium.webdriver.support import expected_conditions as EC\n",
        "from selenium.webdriver.common.by import By\n",
        "from selenium.webdriver.chrome.options import Options\n",
        "\n",
        "options = Options()\n",
        "\n",
        "options.add_argument(\"--headless\")\n",
        "options.add_argument('--no-sandbox')"
      ],
      "metadata": {
        "id": "pb_WwgQrNZ6j",
        "outputId": "899ea2b5-7e0b-4f64-ab1f-7ab9d6784a12",
        "colab": {
          "base_uri": "https://localhost:8080/"
        }
      },
      "execution_count": null,
      "outputs": [
        {
          "output_type": "stream",
          "name": "stdout",
          "text": [
            "Collecting selenium\n",
            "  Downloading selenium-4.16.0-py3-none-any.whl (10.0 MB)\n",
            "\u001b[2K     \u001b[90m━━━━━━━━━━━━━━━━━━━━━━━━━━━━━━━━━━━━━━━━\u001b[0m \u001b[32m10.0/10.0 MB\u001b[0m \u001b[31m57.6 MB/s\u001b[0m eta \u001b[36m0:00:00\u001b[0m\n",
            "\u001b[?25hRequirement already satisfied: urllib3[socks]<3,>=1.26 in /usr/local/lib/python3.10/dist-packages (from selenium) (2.0.7)\n",
            "Collecting trio~=0.17 (from selenium)\n",
            "  Downloading trio-0.23.1-py3-none-any.whl (448 kB)\n",
            "\u001b[2K     \u001b[90m━━━━━━━━━━━━━━━━━━━━━━━━━━━━━━━━━━━━━━━━\u001b[0m \u001b[32m448.3/448.3 kB\u001b[0m \u001b[31m31.9 MB/s\u001b[0m eta \u001b[36m0:00:00\u001b[0m\n",
            "\u001b[?25hCollecting trio-websocket~=0.9 (from selenium)\n",
            "  Downloading trio_websocket-0.11.1-py3-none-any.whl (17 kB)\n",
            "Requirement already satisfied: certifi>=2021.10.8 in /usr/local/lib/python3.10/dist-packages (from selenium) (2023.11.17)\n",
            "Requirement already satisfied: attrs>=20.1.0 in /usr/local/lib/python3.10/dist-packages (from trio~=0.17->selenium) (23.1.0)\n",
            "Requirement already satisfied: sortedcontainers in /usr/local/lib/python3.10/dist-packages (from trio~=0.17->selenium) (2.4.0)\n",
            "Requirement already satisfied: idna in /usr/local/lib/python3.10/dist-packages (from trio~=0.17->selenium) (3.6)\n",
            "Collecting outcome (from trio~=0.17->selenium)\n",
            "  Downloading outcome-1.3.0.post0-py2.py3-none-any.whl (10 kB)\n",
            "Requirement already satisfied: sniffio>=1.3.0 in /usr/local/lib/python3.10/dist-packages (from trio~=0.17->selenium) (1.3.0)\n",
            "Requirement already satisfied: exceptiongroup>=1.0.0rc9 in /usr/local/lib/python3.10/dist-packages (from trio~=0.17->selenium) (1.2.0)\n",
            "Collecting wsproto>=0.14 (from trio-websocket~=0.9->selenium)\n",
            "  Downloading wsproto-1.2.0-py3-none-any.whl (24 kB)\n",
            "Requirement already satisfied: pysocks!=1.5.7,<2.0,>=1.5.6 in /usr/local/lib/python3.10/dist-packages (from urllib3[socks]<3,>=1.26->selenium) (1.7.1)\n",
            "Collecting h11<1,>=0.9.0 (from wsproto>=0.14->trio-websocket~=0.9->selenium)\n",
            "  Downloading h11-0.14.0-py3-none-any.whl (58 kB)\n",
            "\u001b[2K     \u001b[90m━━━━━━━━━━━━━━━━━━━━━━━━━━━━━━━━━━━━━━━━\u001b[0m \u001b[32m58.3/58.3 kB\u001b[0m \u001b[31m6.5 MB/s\u001b[0m eta \u001b[36m0:00:00\u001b[0m\n",
            "\u001b[?25h"
          ]
        }
      ]
    },
    {
      "cell_type": "markdown",
      "source": [
        "# Q.1 / 2점\n"
      ],
      "metadata": {
        "id": "OldtDw8baXrM"
      }
    },
    {
      "cell_type": "markdown",
      "source": [
        "### 1. 문자열 \"He has 12 apples and 5 oranges.\" 에서 숫자만 추출하는 정규 표현식을 작성하고, `search`, `findall`, `finditer` 세가지를 모두 사용하여 추출해보고 차이점을 설명하시오. [1점]"
      ],
      "metadata": {
        "id": "mQSX65PoadrX"
      }
    },
    {
      "cell_type": "markdown",
      "source": [
        "### 2. 가장 많은 수를 가지고 있는 과일이 무엇인지 출력하시오. (힌트: grouping을 사용할 것) [1점]"
      ],
      "metadata": {
        "id": "BzJKU77h9hbN"
      }
    },
    {
      "cell_type": "markdown",
      "source": [
        "# Q.2 / 2점"
      ],
      "metadata": {
        "id": "GDsIfYzFLFUX"
      }
    },
    {
      "cell_type": "markdown",
      "source": [
        "### 1. 이메일 주소가 유효한 이메일 형태로 작성되어 있는지 확인하는 함수 `is_valid_email`를 생성하고 유효한 이메일일 경우 이메일 주소를, 아닐 경우 `유효한 이메일 주소가 아닙니다.`를 출력하시오. [1점]\n",
        "\n",
        "**Example**\n",
        "```python\n",
        "def is_valid_email(email):\n",
        "  ...\n",
        "\n",
        "address1 = 'test@gmail.com'\n",
        "address2 = 'test.gmail.com'\n",
        "\n",
        "print(is_valid_email(address1))\n",
        ">> test@gmail.com\n",
        "print(is_valid_email(address2))\n",
        ">> 유효한 이메일 주소가 아닙니다.\n",
        "```"
      ],
      "metadata": {
        "id": "gyVg1Mw6LHEg"
      }
    },
    {
      "cell_type": "markdown",
      "source": [
        "### 2. Q2.1번 문제에 이어서 유효한 이메일일 경우, 해당 이메일의 아이디와 도메인을 출력하시오. [1점]:\n",
        "\n",
        "**Example**\n",
        "\n",
        "```python\n",
        "def is_valid_email2(email):\n",
        "  ...\n",
        "\n",
        "address1 = 'test@gmail.com'\n",
        "address2 = 'test.gmail.com'\n",
        "\n",
        "print(is_valid_email2(address1))\n",
        ">> ID: test, Domain: gmail.com\n",
        "print(is_valid_email2(address2))\n",
        ">> 유효한 이메일 주소가 아닙니다.\n",
        "\n",
        "```"
      ],
      "metadata": {
        "id": "PVClER-xNo4z"
      }
    },
    {
      "cell_type": "markdown",
      "source": [
        "# Q.3 / 2점"
      ],
      "metadata": {
        "id": "qaccA5uwZEBq"
      }
    },
    {
      "cell_type": "markdown",
      "source": [
        "### 정규표현식을 사용해서 html의 문자열을 파싱하는 beautifulsoup의 find()와 get_text() function을 갖는 ParserWithRegex라는 클래스를 구현해보시오. (attribution 검색까지는 구현 안해도됨. 다만, 구현시 가산점) [2점]\n",
        "\n",
        "**Example**\n",
        "```python\n",
        "class ParserWithRegex:\n",
        "    def __init__(self, html):\n",
        "        self.source = html\n",
        "\n",
        "    def find(self, tag):\n",
        "      ...\n",
        "\n",
        "    def get_text(self, html_fragment):\n",
        "      ...\n",
        "\n",
        "\n",
        "html = \"\"\"\n",
        "<html>\n",
        "<body>\n",
        "<div>Hello <b>World</b>!</div>\n",
        "<p>This is a paragraph.</p>\n",
        "<div class=test>Another <i>div</i>.</div>\n",
        "</body>\n",
        "</html>\n",
        "\"\"\"\n",
        "\n",
        "parser = ParserWithRegex(html)\n",
        "\n",
        "div_content = parser.find('div')\n",
        "print(div_content)\n",
        ">> Hello <b>World</b>!\n",
        "\n",
        "text = parser.get_text(div_content)\n",
        "print(text)\n",
        ">> Hello World!\n",
        "```"
      ],
      "metadata": {
        "id": "0V981QskZHMR"
      }
    },
    {
      "cell_type": "markdown",
      "source": [
        "# Q.4 / 3점"
      ],
      "metadata": {
        "id": "ff_rCnzGKnKt"
      }
    },
    {
      "cell_type": "markdown",
      "source": [
        "### 공공데이터 포털에서 [소상공인시장진흥공단_상가(상권)정보_API](https://www.data.go.kr/data/15012005/openapi.do)를 활용하여 다음 질문들에 답하시오.\n",
        "\n",
        "> 서비스키는 각자의 서비스키를 입력하셔야 합니다. 다른 학생과 중복시 카피로 간주합니다.\n",
        ">\n",
        "> **[힌트]**\n",
        ">\n",
        "> 마이페이지>데이터 활용>Open API>활용신청 현황>사용하고자 하는 API>상세설명에 들어가시면 참고문서로 활용가이드를 확인할 수 있습니다. 활용가이드와 업종분류표를 잘 확인하시고 진행하시길 바랍니다.\n",
        "\n"
      ],
      "metadata": {
        "id": "3kBi2lc2N9KZ"
      }
    },
    {
      "cell_type": "markdown",
      "source": [
        "#### 1. 행정구역 조회 오퍼레이션(상세 기능)을 통해 서울특별시 성북구 안암동의 시도, 시군구, 행정동 코드를 구하시오. [1점]"
      ],
      "metadata": {
        "id": "lN_Yih7D3pyD"
      }
    },
    {
      "cell_type": "markdown",
      "source": [
        "#### 2. 서울특별시 성북구 안암동의 음식점업 총 수를 구하시오. [1점]"
      ],
      "metadata": {
        "id": "cmp-COb33t-S"
      }
    },
    {
      "cell_type": "markdown",
      "source": [
        "#### 3. 자신이 안암에서 가장 좋아하는 맛집을 찾아 상호명, 상권업종중분류명, 상권업종소분류명, 도로명주소를 출력하시오. [1점]"
      ],
      "metadata": {
        "id": "Z09jsXm93yLk"
      }
    },
    {
      "cell_type": "markdown",
      "source": [
        "# Q.5 / 2점"
      ],
      "metadata": {
        "id": "RJ5sZr8DOBSg"
      }
    },
    {
      "cell_type": "markdown",
      "source": [
        "### 다음 HTML 구조를 가진 웹 페이지가 있다고 가정하자.\n",
        "```\n",
        "<!DOCTYPE html>\n",
        "<html>\n",
        "<head>\n",
        "    <title>Sample Web Page</title>\n",
        "</head>\n",
        "<body>\n",
        "    <h1>Welcome to the Sample Web Page</h1>\n",
        "    <div id=\"author\">\n",
        "        Author: Hyeongwon Kang\n",
        "    </div>\n",
        "    <div id=\"content\">\n",
        "        <p>This is a paragraph in the web page.</p>\n",
        "        <p>This is another paragraph, with a <a href=\"https://www.example.com\">link</a>.</p>\n",
        "    </div>\n",
        "    <ul id=\"items\">\n",
        "        <li class=\"item\">Item 1</li>\n",
        "        <li class=\"item\">Item 2</li>\n",
        "        <li class=\"item\">Item 3</li>\n",
        "    </ul>\n",
        "</body>\n",
        "</html>\n",
        "```\n"
      ],
      "metadata": {
        "id": "JBUXp7DuOq_w"
      }
    },
    {
      "cell_type": "markdown",
      "source": [
        "#### 1. 페이지의 제목(`<title>`)을 추출하여라. [0.5점]"
      ],
      "metadata": {
        "id": "qYFUn0BiA2w8"
      }
    },
    {
      "cell_type": "markdown",
      "source": [
        "#### 2. \"content\"라는 ID를 가진 `<div>` 태그의 모든 텍스트를 추출하여라. [0.5점]"
      ],
      "metadata": {
        "id": "aGqFqqdKA6fi"
      }
    },
    {
      "cell_type": "markdown",
      "source": [
        "#### 3. \"items\"라는 ID를 가진 `<ul>` 태그 내에 있는 모든 항목(`<li>`)의 텍스트를 리스트로 만들어 반환하여라. [0.5점]"
      ],
      "metadata": {
        "id": "KcWLc-IrBBoT"
      }
    },
    {
      "cell_type": "markdown",
      "source": [
        "#### 4. CSS를 사용해서 link를 추출하여라. [0.5점]"
      ],
      "metadata": {
        "id": "bTN_Aj_cBPU4"
      }
    },
    {
      "cell_type": "markdown",
      "source": [
        "# Q.6 / 3점"
      ],
      "metadata": {
        "id": "EUqA8Nu6SeW2"
      }
    },
    {
      "cell_type": "markdown",
      "source": [
        "### 다음 기사의 본문에서 강필성 교수님이 몇번 언급되는지 구하시오.\n",
        "\n",
        "https://www.seoul.co.kr/news/newsView.php?id=20200108500123&wlog_tag3=naver\n",
        "\n",
        "> 기사 본문을 크롤링하고 정규표현식을 사용합니다.\n",
        ">\n",
        "> '강 교수'도 강필성 교수님 언급으로 카운트 되어야 합니다.\n",
        ">\n",
        "> 패턴은 단 한번만 사용 가능합니다."
      ],
      "metadata": {
        "id": "uFnUAIJJfcFu"
      }
    },
    {
      "cell_type": "markdown",
      "source": [
        "# Q.7 / 3점"
      ],
      "metadata": {
        "id": "gGtVrCQGhhMg"
      }
    },
    {
      "cell_type": "markdown",
      "source": [
        "### selenium을 사용해서 [다음](https://www.daum.net/) 사이트에서 고려대학교를 검색하고 이미지 탭에서 첫번째 이미지를 출력해보시오.\n",
        "\n",
        "> 다음 홈에서 시작해야합니다.\n",
        ">\n",
        "> selenium의 send_keys와 click을 사용하여야 합니다.\n",
        ">\n",
        "> 아래 이미지 출력 방법을 사용하여 이미지를 출력하여야 합니다.\n",
        "\n",
        "*** 이미지 출력 방법 ***\n",
        "```python\n",
        "from io import BytesIO\n",
        "from PIL import Image\n",
        "\n",
        "res = requests.get(image_url) # image_url에다가 찾아낸 이미지 주소를 입력하시면 됩니다.\n",
        "Image.open(BytesIO(res.content))\n",
        "```"
      ],
      "metadata": {
        "id": "9ARt4M8Yj9OS"
      }
    },
    {
      "cell_type": "markdown",
      "source": [
        "# Q.8 / 3점"
      ],
      "metadata": {
        "id": "FfQKUO0vuW_n"
      }
    },
    {
      "cell_type": "markdown",
      "source": [
        "### 다음 기사에서 모든 댓글들을 크롤링하여 리스트 형태로 만들고, 댓글 리스트와 댓글 갯수를 출력하시오.\n",
        "\n",
        "https://n.news.naver.com/article/138/0002161591?ntype=RANKING\n",
        "\n",
        "> 본 기사 페이지에서 시작해야합니다.\n",
        ">\n",
        "> selenium을 활용해서 댓글 더보기 버튼을 눌러 댓글들을 load 합니다.\n",
        ">\n",
        "> **힌트**\n",
        ">\n",
        "> 댓글 더보기 버튼을 클릭하여 모든 댓글들을 불러옵니다.\n",
        ">\n",
        "> 댓글 더보기 버튼이 클릭되지 않으면 모든 댓글들이 load 된 상태입니다.\n",
        ">\n",
        "> **추천 방법 (꼭 이렇게 하지 않으셔도 됩니다.)**\n",
        ">\n",
        "> 1) 전체 댓글 수를 크롤링하고 댓글이 전체 댓글 수 만큼 출력될 때까지만 더보기 클릭하기\n",
        ">\n",
        "> 2) try, except 코드를 사용해서 더보기 버튼이 클릭되지 않는 상황에서 종료하기\n",
        "\n",
        "**try, except 설명**\n",
        "- `try`와 `except`는 파이썬에서 예외 처리를 위해 사용되는 구문이다. 이 구문을 사용하면 코드 실행 중에 발생할 수 있는 오류(예외)를 처리하고, 프로그램이 예외로 인해 갑자기 중단되는 것을 방지할 수 있다. `try` 블록 안의 코드를 실행하다가 오류가 발생하면 즉시 그 블록을 중단하고 `except` 블록으로 이동한다.\n",
        "```python\n",
        "try:\n",
        "    예외가 발생할 수 있는 코드\n",
        "except:\n",
        "    Error가 발생했을 때 실행될 코드\n",
        "```"
      ],
      "metadata": {
        "id": "hdpJiKmmCpNF"
      }
    }
  ]
}